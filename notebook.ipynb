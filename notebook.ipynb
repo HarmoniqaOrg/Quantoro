{
 "cells": [
  {
   "cell_type": "markdown",
   "id": "d04f39a6",
   "metadata": {},
   "source": [
    "Cell 1: Imports and Setup"
   ]
  },
  {
   "cell_type": "code",
   "execution_count": null,
   "id": "76f24993",
   "metadata": {},
   "outputs": [],
   "source": [
    "import os\n",
    "import logging\n",
    "import pandas as pd\n",
    "import numpy as np\n",
    "from dotenv import load_dotenv\n",
    "\n",
    "# Configure logging\n",
    "logging.basicConfig(level=logging.INFO, format='%(asctime)s - %(levelname)s - %(message)s')\n",
    "\n",
    "# Load environment variables from .env file\n",
    "# Make sure your FMP_API_KEY is set in a .env file in the root directory\n",
    "load_dotenv()\n",
    "\n",
    "# Import custom modules\n",
    "from src.data.loader import FmpDataLoader\n",
    "from src.data.processor import DataProcessor\n",
    "from src.optimization.cvar_optimizer import CVaROptimizer, RollingCVaROptimizer"
   ]
  },
  {
   "cell_type": "markdown",
   "id": "23119036",
   "metadata": {},
   "source": [
    "Cell 2: Configuration"
   ]
  },
  {
   "cell_type": "code",
   "execution_count": null,
   "id": "d5c1dad3",
   "metadata": {},
   "outputs": [],
   "source": [
    "# --- Parameters for the validation run ---\n",
    "FMP_API_KEY = os.getenv(\"FMP_API_KEY\")\n",
    "\n",
    "# Using a smaller universe for the validation run to ensure feasibility with 5% max weight\n",
    "VALIDATION_TICKERS = [\n",
    "    \"AAPL\", \"MSFT\", \"GOOG\", \"AMZN\", \"NVDA\", \"TSLA\", \"META\", \"JPM\", \"JNJ\", \"V\",\n",
    "    \"PG\", \"UNH\", \"HD\", \"MA\", \"BAC\", \"DIS\", \"ADBE\", \"CRM\", \"NFLX\", \"PFE\",\n",
    "    \"XOM\", \"CVX\", \"KO\", \"PEP\", \"WMT\"\n",
    "]\n",
    "START_DATE = \"2020-01-01\"\n",
    "END_DATE = \"2022-12-31\"\n",
    "BENCHMARK_TICKER = \"SPY\" # Using SPY as the benchmark"
   ]
  },
  {
   "cell_type": "markdown",
   "id": "48fa8ab3",
   "metadata": {},
   "source": [
    "Cell 3: Data Loading and Processing"
   ]
  },
  {
   "cell_type": "code",
   "execution_count": null,
   "id": "bb716ad3",
   "metadata": {},
   "outputs": [],
   "source": [
    "# In a Jupyter Notebook, you can run async code directly in a cell by using 'await'\n",
    "# Ensure you are running this in an environment where top-level await is supported (modern Jupyter/IPython)\n",
    "\n",
    "loader = FmpDataLoader(api_key=FMP_API_KEY)\n",
    "processor = DataProcessor()\n",
    "\n",
    "# Fetch data\n",
    "all_tickers = VALIDATION_TICKERS + [BENCHMARK_TICKER]\n",
    "price_data = await loader.fetch_prices(all_tickers, start_date=START_DATE, end_date=END_DATE)\n",
    "\n",
    "# Process data\n",
    "returns_data = processor.calculate_returns(price_data)\n",
    "cleaned_returns = processor.clean_data(returns_data)\n",
    "\n",
    "# Separate asset and benchmark returns\n",
    "asset_returns = cleaned_returns[VALIDATION_TICKERS]\n",
    "benchmark_returns = cleaned_returns[BENCHMARK_TICKER]\n",
    "\n",
    "logging.info(\"Data loaded and processed successfully.\")\n",
    "print(\"Asset Returns Head:\")\n",
    "print(asset_returns.head())"
   ]
  },
  {
   "cell_type": "markdown",
   "id": "da8c0e03",
   "metadata": {},
   "source": [
    "Cell 4: Run Rolling Backtest"
   ]
  },
  {
   "cell_type": "code",
   "execution_count": null,
   "id": "3cce8a3c",
   "metadata": {},
   "outputs": [],
   "source": [
    "# Initialize optimizers\n",
    "cvar_optimizer = CVaROptimizer(alpha=0.95, lasso_penalty=0.01)\n",
    "rolling_optimizer = RollingCVaROptimizer(\n",
    "    optimizer=cvar_optimizer,\n",
    "    lookback_window=252, # 1 year lookback\n",
    "    rebalance_frequency='Q' # Quarterly rebalance\n",
    ")\n",
    "\n",
    "# Run the backtest\n",
    "logging.info(\"Starting rolling backtest...\")\n",
    "backtest_results = rolling_optimizer.backtest(\n",
    "    returns=asset_returns,\n",
    "    benchmark_returns=benchmark_returns\n",
    ")\n",
    "logging.info(\"Backtest completed.\")"
   ]
  },
  {
   "cell_type": "markdown",
   "id": "50cbc31c",
   "metadata": {},
   "source": [
    "Cell 5: Display Results"
   ]
  },
  {
   "cell_type": "code",
   "execution_count": null,
   "id": "e73dfcc6",
   "metadata": {},
   "outputs": [],
   "source": [
    "print(\"\\\\nBacktest Results (first 5 rebalances):\")\n",
    "print(backtest_results.head())"
   ]
  }
 ],
 "metadata": {
  "kernelspec": {
   "display_name": "venv",
   "language": "python",
   "name": "python3"
  },
  "language_info": {
   "name": "python",
   "version": "3.11.4"
  }
 },
 "nbformat": 4,
 "nbformat_minor": 5
}
